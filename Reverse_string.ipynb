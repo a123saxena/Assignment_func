{
 "cells": [
  {
   "cell_type": "code",
   "execution_count": 1,
   "metadata": {},
   "outputs": [
    {
     "name": "stdout",
     "output_type": "stream",
     "text": [
      "The original string is : \n",
      "The reversed string is : \n"
     ]
    }
   ],
   "source": [
    "def reverse(s):\n",
    "    str = \"\"\n",
    "    for i in s:\n",
    "        str = i + str\n",
    "    return str\n",
    " \n",
    "s = input(\"enter string: \")\n",
    " \n",
    "print(\"The original string is : \", end=\"\")\n",
    "print(s)\n",
    " \n",
    "print(\"The reversed string is : \", end=\"\")\n",
    "print(reverse(s))"
   ]
  }
 ],
 "metadata": {
  "kernelspec": {
   "display_name": "Python 3",
   "language": "python",
   "name": "python3"
  },
  "language_info": {
   "codemirror_mode": {
    "name": "ipython",
    "version": 3
   },
   "file_extension": ".py",
   "mimetype": "text/x-python",
   "name": "python",
   "nbconvert_exporter": "python",
   "pygments_lexer": "ipython3",
   "version": "3.12.0"
  }
 },
 "nbformat": 4,
 "nbformat_minor": 2
}
