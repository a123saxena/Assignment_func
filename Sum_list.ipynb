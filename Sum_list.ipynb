{
 "cells": [
  {
   "cell_type": "code",
   "execution_count": 1,
   "metadata": {},
   "outputs": [
    {
     "name": "stdout",
     "output_type": "stream",
     "text": [
      "The sum of the numbers entered by the user is: 0\n"
     ]
    }
   ],
   "source": [
    "def sum_list():\n",
    "   \n",
    "    n = input(\"Enter a list of numbers separated by spaces: \")\n",
    " \n",
    "    number_strings = n.split()\n",
    "    number_strings = list(map(int, number_strings))\n",
    "\n",
    "    \n",
    "    total = 0\n",
    "    for number in number_strings:\n",
    "        try:\n",
    "            #number = float(num_str)\n",
    "            total += number\n",
    "        except ValueError:\n",
    "            print(f\"Skipping invalid input: {number}\")\n",
    "\n",
    "    return total\n",
    "\n",
    "\n",
    "result = sum_list()\n",
    "print(f\"The sum of the numbers entered by the user is: {result}\")"
   ]
  }
 ],
 "metadata": {
  "kernelspec": {
   "display_name": "Python 3",
   "language": "python",
   "name": "python3"
  },
  "language_info": {
   "codemirror_mode": {
    "name": "ipython",
    "version": 3
   },
   "file_extension": ".py",
   "mimetype": "text/x-python",
   "name": "python",
   "nbconvert_exporter": "python",
   "pygments_lexer": "ipython3",
   "version": "3.12.0"
  }
 },
 "nbformat": 4,
 "nbformat_minor": 2
}
